{
 "cells": [
  {
   "cell_type": "code",
   "execution_count": 1,
   "metadata": {
    "polyglot_notebook": {
     "kernelName": "html"
    },
    "vscode": {
     "languageId": "polyglot-notebook"
    }
   },
   "outputs": [
    {
     "data": {
      "text/html": [
       "<link rel=\"stylesheet\" href=\"https://cdnjs.cloudflare.com/ajax/libs/highlight.js/11.11.1/styles/default.min.css\">\r\n",
       "\r\n",
       "<style>\r\n",
       "body {\r\n",
       "    font-family: system-ui;\r\n",
       "  }\r\n",
       "  \r\n",
       "  #code {\r\n",
       "    white-space: pre; /* So the code won't wrap */\r\n",
       "    width: 600px;\r\n",
       "    height: 300px;\r\n",
       "    margin-left: auto;\r\n",
       "    margin-right: auto;\r\n",
       "    overflow-x: auto;\r\n",
       "    overflow-y: auto;\r\n",
       "    visibility: hidden;\r\n",
       "  }\r\n",
       "  \r\n",
       "  /* Hiding the scrollbars */\r\n",
       "  \r\n",
       "  /* Chrome, Safari and Opera */\r\n",
       "  #code::-webkit-scrollbar {\r\n",
       "      display: none;\r\n",
       "  }\r\n",
       "  #code {\r\n",
       "      -ms-overflow-style: none;  /* IE and Edge */\r\n",
       "      scrollbar-width: none;  /* Firefox */\r\n",
       "  }\r\n",
       "  \r\n",
       "  /* Blinking cursor */\r\n",
       "  #code:after{\r\n",
       "      content: \"|\";\r\n",
       "      animation: blink 500ms linear infinite alternate;\r\n",
       "  }\r\n",
       "  \r\n",
       "  @-webkit-keyframes blink{\r\n",
       "      0%{opacity: 0;}\r\n",
       "      100%{opacity: 1;}\r\n",
       "  }\r\n",
       "  \r\n",
       "  @-moz-keyframes blink{\r\n",
       "      0%{opacity: 0;}\r\n",
       "      100%{opacity: 1;}\r\n",
       "  }\r\n",
       "  \r\n",
       "  @keyframes blink{\r\n",
       "      0%{opacity: 0;}\r\n",
       "      100%{opacity: 1;}\r\n",
       "  }\r\n",
       "</style>\r\n",
       "\r\n",
       "\r\n",
       "<div id=\"code\">\r\n",
       "// CSharp sample code\r\n",
       "var now = TimeProvider.System.GetUtcNow();\r\n",
       "Console.WriteLine($\"Hello world! @ {now}\");\r\n",
       "</div>"
      ]
     },
     "metadata": {},
     "output_type": "display_data"
    }
   ],
   "source": [
    "<link rel=\"stylesheet\" href=\"https://cdnjs.cloudflare.com/ajax/libs/highlight.js/11.11.1/styles/default.min.css\">\n",
    "\n",
    "<style>\n",
    "body {\n",
    "    font-family: system-ui;\n",
    "  }\n",
    "  \n",
    "  #code {\n",
    "    white-space: pre; /* So the code won't wrap */\n",
    "    width: 600px;\n",
    "    height: 300px;\n",
    "    margin-left: auto;\n",
    "    margin-right: auto;\n",
    "    overflow-x: auto;\n",
    "    overflow-y: auto;\n",
    "    visibility: hidden;\n",
    "  }\n",
    "  \n",
    "  /* Hiding the scrollbars */\n",
    "  \n",
    "  /* Chrome, Safari and Opera */\n",
    "  #code::-webkit-scrollbar {\n",
    "      display: none;\n",
    "  }\n",
    "  #code {\n",
    "      -ms-overflow-style: none;  /* IE and Edge */\n",
    "      scrollbar-width: none;  /* Firefox */\n",
    "  }\n",
    "  \n",
    "  /* Blinking cursor */\n",
    "  #code:after{\n",
    "      content: \"|\";\n",
    "      animation: blink 500ms linear infinite alternate;\n",
    "  }\n",
    "  \n",
    "  @-webkit-keyframes blink{\n",
    "      0%{opacity: 0;}\n",
    "      100%{opacity: 1;}\n",
    "  }\n",
    "  \n",
    "  @-moz-keyframes blink{\n",
    "      0%{opacity: 0;}\n",
    "      100%{opacity: 1;}\n",
    "  }\n",
    "  \n",
    "  @keyframes blink{\n",
    "      0%{opacity: 0;}\n",
    "      100%{opacity: 1;}\n",
    "  }\n",
    "</style>\n",
    "\n",
    "\n",
    "<div id=\"code\">\n",
    "// CSharp sample code\n",
    "var now = TimeProvider.System.GetUtcNow();\n",
    "Console.WriteLine($\"Hello world! @ {now}\");\n",
    "</div>"
   ]
  },
  {
   "cell_type": "code",
   "execution_count": 2,
   "metadata": {
    "polyglot_notebook": {
     "kernelName": "javascript"
    },
    "vscode": {
     "languageId": "polyglot-notebook"
    }
   },
   "outputs": [],
   "source": [
    "highlightLoader = (require.config({\n",
    "    paths: {\n",
    "        hljs: 'https://cdnjs.cloudflare.com/ajax/libs/highlight.js/11.11.1/highlight.min.js'\n",
    "    },\n",
    "}));\n",
    "\n",
    "require(['hljs'], function (hljs) {\n",
    "    var target = document.getElementById('code');\n",
    "\n",
    "    // Highlight the code\n",
    "    hljs.highlightElement(target, { language: 'csharp' });\n",
    "\n",
    "    // Get all the child nodes\n",
    "    var children = Object.values(document.getElementById('code').childNodes);\n",
    "\n",
    "    // Empty the target\n",
    "    target.innerText = '';\n",
    "\n",
    "    // And start the animation from the first node\n",
    "    type(0);\n",
    "\n",
    "    function type(i) {\n",
    "        // Little helper\n",
    "        function randomNumber(min, max) {\n",
    "            return Math.floor(Math.random() * (max - min) + min);\n",
    "        }\n",
    "\n",
    "        // Make the content visible\n",
    "        if (i === 0) {\n",
    "            target.style.visibility = 'visible';\n",
    "        }\n",
    "\n",
    "        // When we've displayed all the nodes\n",
    "        // Just start over\n",
    "        if (i >= children.length) {\n",
    "            i = 0;\n",
    "            target.innerText = '';\n",
    "        }\n",
    "\n",
    "        // Append each node to the target code placeholder\n",
    "        // And scroll that div if the code scrolls past it\n",
    "        if (children.hasOwnProperty(i)) {\n",
    "            target.appendChild(children[i]);\n",
    "\n",
    "            target.scrollTop = target.scrollHeight;\n",
    "        }\n",
    "\n",
    "        // Step to the next node\n",
    "        i++;\n",
    "\n",
    "        // Repeat the process\n",
    "        // after a variable amount of time\n",
    "        setTimeout(function () {\n",
    "            type(i);\n",
    "        }, randomNumber(200, 500));\n",
    "    }\n",
    "});"
   ]
  }
 ],
 "metadata": {
  "kernelspec": {
   "display_name": ".NET (C#)",
   "language": "C#",
   "name": ".net-csharp"
  },
  "language_info": {
   "name": "python"
  },
  "polyglot_notebook": {
   "kernelInfo": {
    "defaultKernelName": "csharp",
    "items": [
     {
      "aliases": [],
      "name": "csharp"
     }
    ]
   }
  }
 },
 "nbformat": 4,
 "nbformat_minor": 2
}
