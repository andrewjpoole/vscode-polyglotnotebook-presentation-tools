{
 "cells": [
  {
   "cell_type": "markdown",
   "metadata": {},
   "source": [
    "# Vivus test\n",
    "\n",
    "load a library and animate an svg..."
   ]
  },
  {
   "cell_type": "code",
   "execution_count": 3,
   "metadata": {
    "polyglot_notebook": {
     "kernelName": "html"
    },
    "vscode": {
     "languageId": "polyglot-notebook"
    }
   },
   "outputs": [
    {
     "data": {
      "text/html": [
       "<div id=\"target\" style=\"width:50%; background:white;\">animation placeholder</div>"
      ]
     },
     "metadata": {},
     "output_type": "display_data"
    }
   ],
   "source": [
    "<div id=\"target\" style=\"width:50%; background:white;\">animation placeholder</div>"
   ]
  },
  {
   "cell_type": "code",
   "execution_count": 1,
   "metadata": {
    "polyglot_notebook": {
     "kernelName": "javascript"
    },
    "vscode": {
     "languageId": "polyglot-notebook"
    }
   },
   "outputs": [],
   "source": [
    "vivusLoader = (require.config({\n",
    "    paths: {\n",
    "        Vivus: 'https://cdnjs.cloudflare.com/ajax/libs/vivus/0.4.6/vivus.min'\n",
    "    },\n",
    "}));\n",
    "\n",
    "require(['Vivus'], function (Vivus) {\n",
    "    // Clear any previous content...\n",
    "    const targetDiv = document.getElementById('target');\n",
    "    if (targetDiv) {\n",
    "        targetDiv.innerHTML = '';\n",
    "    }\n",
    "\n",
    "    new Vivus('target', {\n",
    "        file: './media/FluentMethodChainingDiagramFromConceptsFinalTweaked.svg',\n",
    "        type: 'oneByOne',\n",
    "        pathTimingFunction: Vivus.LINEAR,\n",
    "        duration: 18000\n",
    "    });\n",
    "});"
   ]
  }
 ],
 "metadata": {
  "kernelspec": {
   "display_name": ".NET (C#)",
   "language": "C#",
   "name": ".net-csharp"
  },
  "language_info": {
   "name": "python"
  },
  "polyglot_notebook": {
   "kernelInfo": {
    "defaultKernelName": "csharp",
    "items": [
     {
      "aliases": [],
      "name": "csharp"
     }
    ]
   }
  }
 },
 "nbformat": 4,
 "nbformat_minor": 2
}
