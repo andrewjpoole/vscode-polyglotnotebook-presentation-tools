{
 "cells": [
  {
   "cell_type": "markdown",
   "metadata": {},
   "source": [
    "# Sequential Reveal Tester Notebook\n",
    "\n",
    "The following markdoen cell will contain some content which we might want to reveal sequentially, like the animation features of Powerpoint or Google Slides.\n",
    "\n",
    "The C# cell below that will render the sections from themarkdown cell one by one.\n",
    "\n",
    "In a presentation you would minimise the markdown cell and repeatedly run the the C# cell to sequentially show the content sections."
   ]
  },
  {
   "cell_type": "code",
   "execution_count": null,
   "metadata": {
    "polyglot_notebook": {
     "kernelName": "html"
    },
    "tags": [
     "mdstyle"
    ],
    "vscode": {
     "languageId": "polyglot-notebook"
    }
   },
   "outputs": [],
   "source": [
    "<!-- style overrides to make fonts large enough for presentation -->\n",
    "<style> \n",
    "h1 {\n",
    "  font-size: 5rem;\n",
    "}\n",
    "h2 {\n",
    "  font-size: 4rem;\n",
    "}\n",
    "h3 {\n",
    "  font-size: 3rem;\n",
    "}\n",
    "body, p, ul, ol {\n",
    "  font-size: 2.5rem;\n",
    "}\n",
    "</style>"
   ]
  },
  {
   "cell_type": "markdown",
   "metadata": {},
   "source": [
    "# A Title\n",
    "\n",
    "## A new Section\n",
    "\n",
    "A paragraph of text\n",
    "\n",
    "- bullet point one\n",
    "- bullet point two\n",
    "* bullet point three\n",
    "\n",
    "Another paragraph of text\n",
    "\n",
    "1. Bonus numeric list one\n",
    "2. Bonus numeric list two\n",
    "3. Bonus numeric list three\n",
    "\n",
    "[done]\n"
   ]
  },
  {
   "cell_type": "code",
   "execution_count": 8,
   "metadata": {
    "polyglot_notebook": {
     "kernelName": "csharp"
    },
    "tags": [
     "cell1"
    ],
    "vscode": {
     "languageId": "polyglot-notebook"
    }
   },
   "outputs": [
    {
     "data": {
      "text/markdown": [
       "<!-- style overrides to make fonts large enough for presentation -->\n",
       "<style> \n",
       "h1 {\n",
       "  font-size: 5rem;\n",
       "}\n",
       "h2 {\n",
       "  font-size: 4rem;\n",
       "}\n",
       "h3 {\n",
       "  font-size: 3rem;\n",
       "}\n",
       "body, p, ul, ol {\n",
       "  font-size: 2.5rem;\n",
       "}\n",
       "</style>\r\n",
       "# A Title\n",
       "\r\n",
       "## A new Section\n",
       "\r\n",
       "A paragraph of text\n",
       "\r\n",
       "- bullet point one\n",
       "\r\n"
      ]
     },
     "metadata": {},
     "output_type": "display_data"
    }
   ],
   "source": [
    "// Sequentially reveal sections from preceding markdown cell...\n",
    "#r \"../src/sequential-reveal-md-tool/bin/Debug/net9.0/sequential-reveal-md-tool.dll\"\n",
    "\n",
    "using sequential_reveal_md_tool;\n",
    "\n",
    "Notebook.FromFile(\"sequential-reveal.ipynb\").DisplayNextSequentialSectionFromPrecedingMarkdownCellUsingStyleCellTag(\"cell1\", \"mdstyle\");"
   ]
  }
 ],
 "metadata": {
  "kernelspec": {
   "display_name": ".NET (C#)",
   "language": "C#",
   "name": ".net-csharp"
  },
  "language_info": {
   "name": "python"
  },
  "polyglot_notebook": {
   "kernelInfo": {
    "defaultKernelName": "csharp",
    "items": [
     {
      "aliases": [],
      "name": "csharp"
     }
    ]
   }
  }
 },
 "nbformat": 4,
 "nbformat_minor": 2
}
