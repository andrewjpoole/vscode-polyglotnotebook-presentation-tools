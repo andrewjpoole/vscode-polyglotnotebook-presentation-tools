{
 "cells": [
  {
   "cell_type": "markdown",
   "metadata": {},
   "source": [
    "# Sequential Reveal Tester Notebook\n",
    "\n",
    "The following markdown cell will contain some content which we might want to reveal sequentially, like the animation features of Powerpoint or Google Slides.\n",
    "\n",
    "The C# cell below that will render the sections from the markdown cell one by one. It relies on VSCode auto saving the notebook file, as reading the notebook file is the only way it detect which markdown lines have been output. Its a bit of a hack but it works and easier than extensing the polyglot notebook VSCode extension! \n",
    "\n",
    "In a presentation you would minimise the markdown cell and repeatedly run the the C# cell to sequentially show the content sections.\n",
    "\n",
    "Ensure you leave enough time for the file to have been saved before revealing the next section!\n",
    "\n",
    "### To run locally \n",
    "\n",
    "* Build the csharp project, otherwise the project reference `#r` will not be able to find the dll\n",
    "* Ensure Autosave is enabled in VSCode, this can be done via the command pallette `Ctrl + Shift + P` then type autosave\n",
    "\n",
    "### Styles\n",
    "\n",
    "If you want to override styles in order to make font sizes larger add a Style section or link to a css file, as demonstrated [here](./make-md-fontsizes-larger.ipynb)\n",
    "\n",
    "### How it works\n",
    "\n",
    "when the C# cell is executed:\n",
    "- the method loads and deserialises the notebook file\n",
    "- it finds the current cell by tag (note \"cell1\" in the example, set on the cell and passed into the method as an arg)\n",
    "- it then finds the previous cell in order to get the markdown from its Source\n",
    "- it will split the markdown into sections\n",
    "- it then looks at the Outputs of the current cell and determines how many sections have been shown so far\n",
    "- finally it builds the new output as a string on which `.DisplayAs(\"text/markdown\");` is called\n",
    "- VSCode then displays the new output and after around a second, saves the notebook file\n",
    "\n",
    "hint: If using this method more than once in a notebook, Cell Tags need to be unique!"
   ]
  },
  {
   "cell_type": "markdown",
   "metadata": {},
   "source": [
    "<!-- Comment to show content hint while cell is collapsed -->\n",
    "<link rel=\"stylesheet\" href=\"styles.css\">\n",
    "\n",
    "# A Title\n",
    "\n",
    "## A new Section\n",
    "\n",
    "A paragraph of text\n",
    "\n",
    "- bullet point one\n",
    "- bullet point two\n",
    "* bullet point three\n",
    "\n",
    "Another paragraph of text\n",
    "\n",
    "1. Bonus numeric list one\n",
    "2. Bonus numeric list two\n",
    "\n",
    "[done]\n"
   ]
  },
  {
   "cell_type": "code",
   "execution_count": 11,
   "metadata": {
    "polyglot_notebook": {
     "kernelName": "csharp"
    },
    "tags": [
     "cell1"
    ],
    "vscode": {
     "languageId": "polyglot-notebook"
    }
   },
   "outputs": [
    {
     "data": {
      "text/markdown": [
       "<!-- Comment to show content hint while cell is collapsed -->\r\n",
       "<link rel=\"stylesheet\" href=\"styles.css\">\r\n",
       "\r\n",
       "# A Title\r\n",
       "\r\n",
       "## A new Section\r\n",
       "\r\n",
       "A paragraph of text\r\n",
       "\r\n",
       "- bullet point one\r\n",
       "- bullet point two\r\n",
       "* bullet point three\r\n",
       "\r\n",
       "Another paragraph of text\r\n",
       "\r\n",
       "1. Bonus numeric list one\r\n",
       "2. Bonus numeric list two\r\n",
       "\r\n",
       "[done]\r\n"
      ]
     },
     "metadata": {},
     "output_type": "display_data"
    }
   ],
   "source": [
    "// Sequentially reveal sections from preceding markdown cell...\n",
    "#r \"../src/sequential-reveal-md-tool/bin/Debug/net9.0/sequential-reveal-md-tool.dll\"\n",
    "\n",
    "using sequential_reveal_md_tool;\n",
    "\n",
    "Notebook.FromFile(\"sequential-reveal.ipynb\").DisplayNextSequentialSectionFromPrecedingMarkdownCell(\"cell1\");\n"
   ]
  },
  {
   "cell_type": "markdown",
   "metadata": {},
   "source": [
    "<link rel=\"stylesheet\" href=\"styles.css\">\n",
    "\n",
    "# Next Section\n",
    "\n",
    "Should be pushed down off screen until presenter moves to it."
   ]
  }
 ],
 "metadata": {
  "kernelspec": {
   "display_name": ".NET (C#)",
   "language": "C#",
   "name": ".net-csharp"
  },
  "language_info": {
   "name": "python"
  },
  "polyglot_notebook": {
   "kernelInfo": {
    "defaultKernelName": "csharp",
    "items": [
     {
      "aliases": [],
      "name": "csharp"
     }
    ]
   }
  }
 },
 "nbformat": 4,
 "nbformat_minor": 2
}
