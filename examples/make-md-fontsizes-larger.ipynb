{
 "cells": [
  {
   "cell_type": "markdown",
   "metadata": {},
   "source": [
    "<link rel=\"stylesheet\" href=\"styles.css\">\n",
    "\n",
    "# Title\n",
    "\n",
    "## H2\n",
    "\n",
    "### H3\n",
    "\n",
    "#### H4\n",
    "\n",
    "##### H5\n",
    "\n",
    "###### H6\n",
    "\n",
    "Paragraph\n",
    "\n",
    "- Bullets\n",
    "- and another\n",
    "\n",
    "1. Numeric\n",
    "2. And another\n",
    "\n",
    "Edit this markdown cell to see styles.css imported at the top\n",
    "```html\n",
    "<link rel=\"stylesheet\" href=\"styles.css\">\n",
    "```\n",
    "you will have to do this for each markdown cell as far as I'm aware.\n",
    "\n",
    "This doesn't appear to work when viewed in github, but it works in vscode."
   ]
  },
  {
   "cell_type": "markdown",
   "metadata": {},
   "source": [
    "\n",
    "---\n",
    "\n",
    "Same as above, but without the link - ordinary font sizes.\n",
    "\n",
    "# Title\n",
    "\n",
    "## H2\n",
    "\n",
    "### H3\n",
    "\n",
    "#### H4\n",
    "\n",
    "##### H5\n",
    "\n",
    "###### H6\n",
    "\n",
    "Paragraph\n",
    "\n",
    "- Bullets\n",
    "- and another\n",
    "\n",
    "1. Numeric\n",
    "2. And another\n",
    "\n"
   ]
  }
 ],
 "metadata": {
  "language_info": {
   "name": "python"
  }
 },
 "nbformat": 4,
 "nbformat_minor": 2
}
