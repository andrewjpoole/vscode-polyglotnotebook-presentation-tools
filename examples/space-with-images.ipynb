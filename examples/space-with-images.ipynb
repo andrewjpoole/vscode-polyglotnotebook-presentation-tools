{
 "cells": [
  {
   "cell_type": "markdown",
   "metadata": {},
   "source": [
    "<div style=\"position: relative; width: 100%; height: 500px; overflow: hidden;\">\n",
    "  <img src=\"./media/pawel-czerwinski-VWVO0g9A3rg-unsplash.jpg\" alt=\"Page Break\" style=\"width: 100%; height: auto;\">\n",
    "  <div style=\"\n",
    "    position: absolute;\n",
    "    top: 0;\n",
    "    left: 0;\n",
    "    width: 100%;\n",
    "    height: 100%;\n",
    "    background: linear-gradient(to bottom, rgba(0, 0, 0, 0) 60%, #1F1F1F 100%);\n",
    "    pointer-events: none;\">\n",
    "  </div>\n",
    "</div>\n",
    "\n",
    "# Title or something goes here\n",
    "\n",
    "Image from unsplash by [Pawel Czerwinski](https://unsplash.com/@pawel_czerwinski)"
   ]
  }
 ],
 "metadata": {
  "language_info": {
   "name": "python"
  }
 },
 "nbformat": 4,
 "nbformat_minor": 2
}
