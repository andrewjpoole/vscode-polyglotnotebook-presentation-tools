{
 "cells": [
  {
   "cell_type": "markdown",
   "metadata": {},
   "source": [
    "# Sequential Reveal Tester Notebook\n",
    "\n",
    "The following markdoen cell will contain some content which we might want to reveal sequentially, like the animation features of Powerpoint or Google Slides.\n",
    "\n",
    "The C# cell below that will render the sections from themarkdown cell one by one.\n",
    "\n",
    "In a presentation you would minimise the markdown cell and repeatedly run the the C# cell to sequentially show the content sections."
   ]
  },
  {
   "cell_type": "markdown",
   "metadata": {},
   "source": [
    "<!-- Comment to show content hint while cell is collapsed -->\n",
    "<link rel=\"stylesheet\" href=\"styles.css\">\n",
    "\n",
    "# A Title\n",
    "\n",
    "## A new Section\n",
    "\n",
    "A paragraph of text\n",
    "\n",
    "- bullet point one\n",
    "- bullet point two\n",
    "* bullet point three\n",
    "\n",
    "Another paragraph of text\n",
    "\n",
    "1. Bonus numeric list one\n",
    "2. Bonus numeric list two\n",
    "\n",
    "[done]\n"
   ]
  },
  {
   "cell_type": "code",
   "execution_count": 11,
   "metadata": {
    "polyglot_notebook": {
     "kernelName": "csharp"
    },
    "tags": [
     "cell1"
    ],
    "vscode": {
     "languageId": "polyglot-notebook"
    }
   },
   "outputs": [
    {
     "data": {
      "text/markdown": [
       "<!-- Comment to show content hint while cell is collapsed -->\r\n",
       "<link rel=\"stylesheet\" href=\"styles.css\">\r\n",
       "\r\n",
       "# A Title\r\n",
       "\r\n",
       "## A new Section\r\n",
       "\r\n",
       "A paragraph of text\r\n",
       "\r\n",
       "- bullet point one\r\n",
       "- bullet point two\r\n",
       "* bullet point three\r\n",
       "\r\n",
       "Another paragraph of text\r\n",
       "\r\n",
       "1. Bonus numeric list one\r\n",
       "2. Bonus numeric list two\r\n",
       "\r\n",
       "[done]\r\n",
       "<div style=\"display:block; height:30rem;\"></div>\r\n"
      ]
     },
     "metadata": {},
     "output_type": "display_data"
    }
   ],
   "source": [
    "// Sequentially reveal sections from preceding markdown cell...\n",
    "#r \"../src/sequential-reveal-md-tool/bin/Debug/net9.0/sequential-reveal-md-tool.dll\"\n",
    "\n",
    "using sequential_reveal_md_tool;\n",
    "\n",
    "Notebook.FromFile(\"sequential-reveal.ipynb\").DisplayNextSequentialSectionFromPrecedingMarkdownCell(\"cell1\");\n"
   ]
  },
  {
   "cell_type": "markdown",
   "metadata": {},
   "source": [
    "<link rel=\"stylesheet\" href=\"styles.css\">\n",
    "\n",
    "# Next Section\n",
    "\n",
    "Should be pushed down off screen until presenter moves to it."
   ]
  }
 ],
 "metadata": {
  "kernelspec": {
   "display_name": ".NET (C#)",
   "language": "C#",
   "name": ".net-csharp"
  },
  "language_info": {
   "name": "python"
  },
  "polyglot_notebook": {
   "kernelInfo": {
    "defaultKernelName": "csharp",
    "items": [
     {
      "aliases": [],
      "name": "csharp"
     }
    ]
   }
  }
 },
 "nbformat": 4,
 "nbformat_minor": 2
}
